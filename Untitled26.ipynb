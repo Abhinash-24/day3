{
 "cells": [
  {
   "cell_type": "code",
   "execution_count": 1,
   "id": "4b7e3484-14f3-47a4-945e-623d2c727e65",
   "metadata": {},
   "outputs": [
    {
     "name": "stdin",
     "output_type": "stream",
     "text": [
      "enter your four digit pin number: 1234\n"
     ]
    },
    {
     "name": "stdout",
     "output_type": "stream",
     "text": [
      "access granted\n"
     ]
    },
    {
     "name": "stdin",
     "output_type": "stream",
     "text": [
      "enter amount 5000\n"
     ]
    },
    {
     "name": "stdout",
     "output_type": "stream",
     "text": [
      "amount withdraw 5000\n",
      "remaining balance 0\n",
      "Thank you for banking..\n"
     ]
    }
   ],
   "source": [
    "# atm\n",
    "pin=int(input(\"enter your four digit pin number:\")) \n",
    "spin=1234\n",
    "balance=5000\n",
    "if pin==spin:\n",
    "    print(\"access granted\")\n",
    "    withdraw=int(input(\"enter amount\"))\n",
    "    if withdraw>balance:\n",
    "        print(\"insufficient funds\")\n",
    "    else:\n",
    "        print(\"amount withdraw\",withdraw)\n",
    "        print(\"remaining balance\",balance-withdraw)\n",
    "        print(\"Thank you for banking..\")\n",
    "else:\n",
    "    print(\"access denied wrong pin\")"
   ]
  },
  {
   "cell_type": "code",
   "execution_count": 3,
   "id": "e931948d-8503-4bee-802e-deb5f9e1a915",
   "metadata": {},
   "outputs": [
    {
     "name": "stdin",
     "output_type": "stream",
     "text": [
      "enter your four digit pin number: 1212\n"
     ]
    },
    {
     "name": "stdout",
     "output_type": "stream",
     "text": [
      "access denied wrong pin\n"
     ]
    }
   ],
   "source": [
    "# atm\n",
    "pin=int(input(\"enter your four digit pin number:\")) \n",
    "spin=1234\n",
    "balance=5000\n",
    "if pin==spin:\n",
    "    print(\"access granted\")\n",
    "    withdraw=int(input(\"enter amount\"))\n",
    "    if withdraw>balance:\n",
    "        print(\"insufficient funds\")\n",
    "    else:\n",
    "        print(\"amount withdraw\",withdraw)\n",
    "        print(\"remaining balance\",balance-withdraw)\n",
    "        print(\"Thank you for banking..\")\n",
    "else:\n",
    "    print(\"access denied wrong pin\")"
   ]
  },
  {
   "cell_type": "code",
   "execution_count": 7,
   "id": "3d3ff44d-cd5b-4c6c-a370-66d699d9bc9f",
   "metadata": {},
   "outputs": [
    {
     "name": "stdin",
     "output_type": "stream",
     "text": [
      "enter a number 5\n"
     ]
    },
    {
     "name": "stdout",
     "output_type": "stream",
     "text": [
      "cherry cherry cherry cherry cherry "
     ]
    }
   ],
   "source": [
    "#looping statements and control statements\n",
    "#while\n",
    "#for\n",
    "#break\n",
    "#continue\n",
    "#pass\n",
    "#while_-else\n",
    "#for else\n",
    "num=int(input(\"enter a number\"))\n",
    "loop=0\n",
    "while loop<num:\n",
    "    print(\"cherry\",end=' ')\n",
    "    loop+=1"
   ]
  },
  {
   "cell_type": "code",
   "execution_count": 9,
   "id": "b3efeb26-0c5c-4bc9-bcee-b6a4830078b1",
   "metadata": {},
   "outputs": [
    {
     "name": "stdin",
     "output_type": "stream",
     "text": [
      "enter a number 5\n"
     ]
    },
    {
     "name": "stdout",
     "output_type": "stream",
     "text": [
      "cherry\n",
      "cherry\n",
      "cherry\n",
      "cherry\n",
      "cherry\n"
     ]
    }
   ],
   "source": [
    "num=int(input(\"enter a number\"))\n",
    "loop=0\n",
    "while loop<num:\n",
    "    print(\"cherry\")\n",
    "    loop+=1"
   ]
  },
  {
   "cell_type": "code",
   "execution_count": 19,
   "id": "6e18717c-b9f2-4bb1-a84e-4f0e8b468fb5",
   "metadata": {},
   "outputs": [
    {
     "name": "stdin",
     "output_type": "stream",
     "text": [
      "enter a number 50\n"
     ]
    },
    {
     "name": "stdout",
     "output_type": "stream",
     "text": [
      "1\n",
      "2\n",
      "3\n",
      "4\n",
      "5\n",
      "6\n",
      "7\n",
      "8\n",
      "9\n",
      "10\n",
      "11\n",
      "12\n",
      "13\n",
      "14\n",
      "15\n",
      "16\n",
      "17\n",
      "18\n",
      "19\n",
      "20\n",
      "21\n",
      "22\n",
      "23\n",
      "24\n",
      "25\n",
      "26\n",
      "27\n",
      "28\n",
      "29\n",
      "30\n",
      "31\n",
      "32\n",
      "33\n",
      "34\n",
      "35\n",
      "36\n",
      "37\n",
      "38\n",
      "39\n",
      "40\n",
      "41\n",
      "42\n",
      "43\n",
      "44\n",
      "45\n",
      "46\n",
      "47\n",
      "48\n",
      "49\n"
     ]
    }
   ],
   "source": [
    "#write a program to print the first n natural numbers till 50\n",
    "num=int(input(\"enter a number\"))\n",
    "loop=1\n",
    "while loop<num:\n",
    "    print(loop)\n",
    "    loop+=1"
   ]
  },
  {
   "cell_type": "code",
   "execution_count": 25,
   "id": "80a2ae3e-6205-4936-a5e8-6c007b184d69",
   "metadata": {},
   "outputs": [
    {
     "name": "stdout",
     "output_type": "stream",
     "text": [
      "5\n",
      "4\n",
      "3\n",
      "2\n",
      "1\n"
     ]
    }
   ],
   "source": [
    "##### num=int(input(\"enter a number\"))\n",
    "while num>=1:\n",
    "    print(num)\n",
    "    num-=1"
   ]
  },
  {
   "cell_type": "code",
   "execution_count": null,
   "id": "d3bcebb5-ba4a-4c65-8403-808f7e596aa7",
   "metadata": {},
   "outputs": [],
   "source": []
  }
 ],
 "metadata": {
  "kernelspec": {
   "display_name": "Python 3 (ipykernel)",
   "language": "python",
   "name": "python3"
  },
  "language_info": {
   "codemirror_mode": {
    "name": "ipython",
    "version": 3
   },
   "file_extension": ".py",
   "mimetype": "text/x-python",
   "name": "python",
   "nbconvert_exporter": "python",
   "pygments_lexer": "ipython3",
   "version": "3.12.7"
  }
 },
 "nbformat": 4,
 "nbformat_minor": 5
}

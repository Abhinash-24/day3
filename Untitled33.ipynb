{
 "cells": [
  {
   "cell_type": "code",
   "execution_count": 3,
   "id": "fba829fb-baac-4b4b-a28d-b727ae600d84",
   "metadata": {},
   "outputs": [
    {
     "name": "stdin",
     "output_type": "stream",
     "text": [
      "enter a number: 153\n"
     ]
    },
    {
     "name": "stdout",
     "output_type": "stream",
     "text": [
      "latest value of sum: 153\n",
      "latest value of temp 0\n",
      "153 is armstrong number\n"
     ]
    }
   ],
   "source": [
    "num=int(input(\"enter a number:\"))\n",
    "temp=num\n",
    "n=len(str(num))\n",
    "sum=0\n",
    "while temp>0:\n",
    "    digit=temp%10\n",
    "    sum+=digit**n\n",
    "    temp//=10\n",
    "print(\"latest value of sum:\",sum)\n",
    "print(\"latest value of temp\",temp)\n",
    "if sum==num:\n",
    "    print(num,\"is armstrong number\")\n",
    "else:\n",
    "    print(num,\"is not an armstrong number\")"
   ]
  },
  {
   "cell_type": "code",
   "execution_count": 19,
   "id": "9ff1d9be-e5ea-4a17-a1c1-567449cd1d7a",
   "metadata": {},
   "outputs": [
    {
     "name": "stdin",
     "output_type": "stream",
     "text": [
      "enter the number :  156\n"
     ]
    },
    {
     "name": "stdout",
     "output_type": "stream",
     "text": [
      "latest value of sum: 12\n",
      "latest value of temp 0\n",
      "nivens 156\n"
     ]
    }
   ],
   "source": [
    "num=int(input(\"enter the number : \"))\n",
    "temp=num\n",
    "sum=0\n",
    "while temp>0:\n",
    "    digit=temp%10\n",
    "    sum+=digit \n",
    "    temp//=10\n",
    "    print(\"latest value of sum:\",sum)\n",
    "print(\"latest value of temp\",temp)\n",
    "if num%sum=0:\n",
    "    print(\"nivens\",num)\n",
    "else:\n",
    "    print(\"not\",num)\n",
    "    \n",
    "        "
   ]
  },
  {
   "cell_type": "code",
   "execution_count": 49,
   "id": "78b4f197-52da-4e64-8a16-ca6e4c58b973",
   "metadata": {},
   "outputs": [
    {
     "name": "stdout",
     "output_type": "stream",
     "text": [
      "1 4 7 10 "
     ]
    }
   ],
   "source": [
    "#n=int(input())\n",
    "for i in range (1,11,3):\n",
    "    print(i,end=' ')"
   ]
  },
  {
   "cell_type": "code",
   "execution_count": null,
   "id": "329153a1-a909-4fda-b5ee-2750f44b5a3e",
   "metadata": {},
   "outputs": [],
   "source": [
    "word=input(\"enter word\")\n"
   ]
  }
 ],
 "metadata": {
  "kernelspec": {
   "display_name": "Python 3 (ipykernel)",
   "language": "python",
   "name": "python3"
  },
  "language_info": {
   "codemirror_mode": {
    "name": "ipython",
    "version": 3
   },
   "file_extension": ".py",
   "mimetype": "text/x-python",
   "name": "python",
   "nbconvert_exporter": "python",
   "pygments_lexer": "ipython3",
   "version": "3.12.7"
  }
 },
 "nbformat": 4,
 "nbformat_minor": 5
}

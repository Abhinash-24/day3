{
 "cells": [
  {
   "cell_type": "code",
   "execution_count": 53,
   "id": "743e4432-2031-49de-bc38-e7901c6fb52b",
   "metadata": {},
   "outputs": [
    {
     "name": "stdin",
     "output_type": "stream",
     "text": [
      "enter the size 6\n"
     ]
    },
    {
     "name": "stdout",
     "output_type": "stream",
     "text": [
      "A  B  C  D  E  F  \n",
      "T  U  V  W  X  G  \n",
      "S  F  G  H  Y  H  \n",
      "R  E  J  I  Z  I  \n",
      "Q  D  C  B  A  J  \n",
      "P  O  N  M  L  K  \n"
     ]
    }
   ],
   "source": [
    "n=int(input(\"enter the size\"))\n",
    "matrix=[[' ']*n for _ in range(n)]\n",
    "ch=65\n",
    "top,left=0,0\n",
    "right,bottom=n-1,n-1\n",
    "while top<=bottom and left<=bottom:\n",
    "    for i in range(left,right+1):\n",
    "        matrix[top][i]=chr(ch)\n",
    "        ch+=1\n",
    "        if ch>90:\n",
    "            ch=65\n",
    "    top+=1\n",
    "    for i in range(top,bottom+1):\n",
    "        matrix[i][right]=chr(ch)\n",
    "        ch+=1\n",
    "        if ch>90:\n",
    "            ch=65\n",
    "    right-=1\n",
    "    for i in range(right,left-1,-1):\n",
    "        matrix[bottom][i]=chr(ch)\n",
    "        ch+=1\n",
    "        if ch>90:\n",
    "            ch=65\n",
    "    bottom-=1\n",
    "    for i in range(bottom,top-1,-1):\n",
    "        matrix[i][left]=chr(ch)\n",
    "        ch+=1\n",
    "        if ch>90:\n",
    "            ch=65\n",
    "    left+=1\n",
    "for row in matrix:\n",
    "    for val in row:\n",
    "        print(f\"{val:2}\",end=' ')\n",
    "    print()"
   ]
  },
  {
   "cell_type": "code",
   "execution_count": 29,
   "id": "65388b2a-21c7-4d4d-b396-70ab33631b12",
   "metadata": {},
   "outputs": [
    {
     "name": "stdout",
     "output_type": "stream",
     "text": [
      "1 2 3 4 8 12 16 15 14 13 9 5 6 7 11 10 "
     ]
    }
   ],
   "source": [
    "matrix=[[1,2,3,4],\n",
    "        [5,6,7,8],\n",
    "        [9,10,11,12],\n",
    "        [13,14,15,16]]\n",
    "row=len(matrix)\n",
    "col=len(matrix[0])\n",
    "top,left=0,0\n",
    "right,bottom=col-1,row-1\n",
    "while top<=bottom and left<=bottom:\n",
    "    for i in range(left,right+1):\n",
    "        print(matrix[top][i],end=' ')\n",
    "    top+=1\n",
    "    for i in range(top,bottom+1):\n",
    "        print(matrix[i][right],end=' ')\n",
    "    right-=1\n",
    "    for i in range(right,left-1,-1):\n",
    "        print(matrix[bottom][i],end=' ')\n",
    "    bottom-=1\n",
    "    for i in range(bottom,top-1,-1):\n",
    "        print(matrix[i][left],end=' ')\n",
    "    left+=1\n"
   ]
  },
  {
   "cell_type": "code",
   "execution_count": 51,
   "id": "ca0a923e-c804-45ca-8b66-9adf69a7df1c",
   "metadata": {},
   "outputs": [
    {
     "name": "stdin",
     "output_type": "stream",
     "text": [
      "enter the size 5\n"
     ]
    },
    {
     "name": "stdout",
     "output_type": "stream",
     "text": [
      "  1   2   3   4   5 \n",
      " 16  17  18  19   6 \n",
      " 15  24  25  20   7 \n",
      " 14  23  22  21   8 \n",
      " 13  12  11  10   9 \n"
     ]
    }
   ],
   "source": [
    "n=int(input(\"enter the size\"))\n",
    "matrix=[[0]*n for _ in range(n)]\n",
    "top,left=0,0\n",
    "right,bottom=n-1,n-1\n",
    "num=1\n",
    "while top<=bottom and left<=bottom:\n",
    "    for i in range(left,right+1):\n",
    "        matrix[top][i]=num\n",
    "        num+=1\n",
    "    top+=1\n",
    "    for i in range(top,bottom+1):\n",
    "        matrix[i][right]=num\n",
    "        num+=1\n",
    "    right-=1\n",
    "    for i in range(right,left-1,-1):\n",
    "        matrix[bottom][i]=num\n",
    "        num+=1\n",
    "    bottom-=1\n",
    "    for i in range(bottom,top-1,-1):\n",
    "        matrix[i][left]=num\n",
    "        num+=1\n",
    "    left+=1\n",
    "for row in matrix:\n",
    "    for val in row:\n",
    "        print(f\"{val:3}\",end=' ')\n",
    "    print()"
   ]
  },
  {
   "cell_type": "code",
   "execution_count": 58,
   "id": "a9319493-21e6-4514-b698-380a32e484f6",
   "metadata": {},
   "outputs": [
    {
     "name": "stdin",
     "output_type": "stream",
     "text": [
      "enter the size \n"
     ]
    },
    {
     "ename": "ValueError",
     "evalue": "invalid literal for int() with base 10: ''",
     "output_type": "error",
     "traceback": [
      "\u001b[1;31m---------------------------------------------------------------------------\u001b[0m",
      "\u001b[1;31mValueError\u001b[0m                                Traceback (most recent call last)",
      "Cell \u001b[1;32mIn[58], line 1\u001b[0m\n\u001b[1;32m----> 1\u001b[0m n\u001b[38;5;241m=\u001b[39m\u001b[38;5;28mint\u001b[39m(\u001b[38;5;28minput\u001b[39m(\u001b[38;5;124m\"\u001b[39m\u001b[38;5;124menter the size\u001b[39m\u001b[38;5;124m\"\u001b[39m))\n\u001b[0;32m      2\u001b[0m matrix\u001b[38;5;241m=\u001b[39m[[\u001b[38;5;124m'\u001b[39m\u001b[38;5;124m \u001b[39m\u001b[38;5;124m'\u001b[39m]\u001b[38;5;241m*\u001b[39mn \u001b[38;5;28;01mfor\u001b[39;00m _ \u001b[38;5;129;01min\u001b[39;00m \u001b[38;5;28mrange\u001b[39m(n)]\n\u001b[0;32m      3\u001b[0m ch\u001b[38;5;241m=\u001b[39m\u001b[38;5;241m65\u001b[39m\n",
      "\u001b[1;31mValueError\u001b[0m: invalid literal for int() with base 10: ''"
     ]
    }
   ],
   "source": [
    "n=int(input(\"enter the size\"))\n",
    "matrix=[[' ']*n for _ in range(n)]\n",
    "ch=65\n",
    "top,left=0,0\n",
    "right,bottom=n-1,n-1\n",
    "while top<=bottom and left<=bottom:\n",
    "    for i in range(left,right+1):\n",
    "        matrix[top][i]=chr(ch)\n",
    "        ch+=1\n",
    "        '''if ch>90:\n",
    "            ch=65'''\n",
    "    top+=1\n",
    "    for i in range(top,bottom+1):\n",
    "        matrix[i][right]=chr(ch)\n",
    "        ch+=1\n",
    "        '''if ch>90:\n",
    "            ch=65'''\n",
    "    right-=1\n",
    "    for i in range(right,left-1,-1):\n",
    "        matrix[bottom][i]=chr(ch)\n",
    "        ch+=1\n",
    "        ''' if ch>90:\n",
    "            ch=65'''\n",
    "    bottom-=1\n",
    "    for i in range(bottom,top-1,-1):\n",
    "        matrix[i][left]=chr(ch)\n",
    "        ch+=1\n",
    "        '''if ch>90:\n",
    "            ch=65'''\n",
    "    left+=1\n",
    "for row in matrix:\n",
    "    for val in row:\n",
    "        print(f\"{val:2}\",end=' ')\n",
    "    print()"
   ]
  },
  {
   "cell_type": "code",
   "execution_count": null,
   "id": "4fd872b2-43d6-4d7c-a8ff-438024721f69",
   "metadata": {},
   "outputs": [],
   "source": []
  }
 ],
 "metadata": {
  "kernelspec": {
   "display_name": "Python 3 (ipykernel)",
   "language": "python",
   "name": "python3"
  },
  "language_info": {
   "codemirror_mode": {
    "name": "ipython",
    "version": 3
   },
   "file_extension": ".py",
   "mimetype": "text/x-python",
   "name": "python",
   "nbconvert_exporter": "python",
   "pygments_lexer": "ipython3",
   "version": "3.12.7"
  }
 },
 "nbformat": 4,
 "nbformat_minor": 5
}

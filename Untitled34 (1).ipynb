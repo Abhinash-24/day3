{
 "cells": [
  {
   "cell_type": "code",
   "execution_count": 1,
   "id": "40d74f05-c9c7-474b-a7ca-c01885784ce3",
   "metadata": {},
   "outputs": [
    {
     "name": "stdin",
     "output_type": "stream",
     "text": [
      "enter the value of a: 1\n",
      "enter the value of b: 2\n",
      "enter the value of c: 3\n",
      "enter the value of d: 4\n"
     ]
    },
    {
     "name": "stdout",
     "output_type": "stream",
     "text": [
      "the result of the eqaution is: 14\n"
     ]
    }
   ],
   "source": [
    "a=int(input(\"enter the value of a:\"))\n",
    "b=int(input(\"enter the value of b:\"))\n",
    "c=int(input(\"enter the value of c:\"))\n",
    "d=int(input(\"enter the value of d:\"))\n",
    "result=a*b+c*d\n",
    "print(\"the result of the eqaution is:\",result)\n",
    "\n",
    "\n"
   ]
  },
  {
   "cell_type": "code",
   "execution_count": 3,
   "id": "f4948f93-18f0-4855-8051-ddaf9bf9f631",
   "metadata": {},
   "outputs": [
    {
     "name": "stdin",
     "output_type": "stream",
     "text": [
      "enter the value of a: 1\n",
      "enter the value of b: 2\n",
      "enter the value of c: 3\n",
      "enter the value of d: 4\n"
     ]
    },
    {
     "name": "stdout",
     "output_type": "stream",
     "text": [
      "the result of the eqaution is: 4\n"
     ]
    }
   ],
   "source": [
    "a=int(input(\"enter the value of a:\"))\n",
    "b=int(input(\"enter the value of b:\"))\n",
    "c=int(input(\"enter the value of c:\"))\n",
    "d=int(input(\"enter the value of d:\"))\n",
    "result=a+b-c+d\n",
    "print(\"the result of the eqaution is:\",result)\n"
   ]
  },
  {
   "cell_type": "code",
   "execution_count": 5,
   "id": "a623c90e-c2e0-4db2-bae8-112b9c6a25a7",
   "metadata": {},
   "outputs": [
    {
     "name": "stdout",
     "output_type": "stream",
     "text": [
      "1 2\n",
      "2 1\n"
     ]
    }
   ],
   "source": [
    "#swapping numbers\n",
    "a=1\n",
    "b=2\n",
    "print(a,b)\n",
    "a,b=b,a\n",
    "print(a,b)"
   ]
  },
  {
   "cell_type": "code",
   "execution_count": 7,
   "id": "773b96af-8ca5-485e-946d-07dc2fb0bb15",
   "metadata": {},
   "outputs": [
    {
     "name": "stdin",
     "output_type": "stream",
     "text": [
      "enter the value of a 1\n",
      "enter the value of b 2\n"
     ]
    },
    {
     "name": "stdout",
     "output_type": "stream",
     "text": [
      "1 2\n",
      "2 1\n"
     ]
    }
   ],
   "source": [
    "a=int(input(\"enter the value of a\"))\n",
    "b=int(input(\"enter the value of b\"))\n",
    "print(a,b)\n",
    "temp=a\n",
    "a=b\n",
    "b=temp\n",
    "print(a,b)\n"
   ]
  },
  {
   "cell_type": "code",
   "execution_count": 9,
   "id": "dc69fb98-0fd5-4c31-8ac9-0cc4b626da8b",
   "metadata": {},
   "outputs": [
    {
     "name": "stdin",
     "output_type": "stream",
     "text": [
      "enter the value of a: 1\n",
      "enter the value of b: 2\n"
     ]
    },
    {
     "name": "stdout",
     "output_type": "stream",
     "text": [
      "1 2\n",
      "2 1\n"
     ]
    }
   ],
   "source": [
    "#swapping using arthematic operations\n",
    "a=int(input(\"enter the value of a:\"))\n",
    "b=int(input(\"enter the value of b:\"))\n",
    "print(a,b)\n",
    "a=a+b\n",
    "b=a-b\n",
    "a=a-b\n",
    "print(a,b)\n"
   ]
  },
  {
   "cell_type": "code",
   "execution_count": 11,
   "id": "54cfc6fc-2d32-465e-bcf5-487e4993b5b1",
   "metadata": {},
   "outputs": [
    {
     "name": "stdin",
     "output_type": "stream",
     "text": [
      "enter the value of a: 2\n",
      "enter the value of b: 3\n"
     ]
    },
    {
     "name": "stdout",
     "output_type": "stream",
     "text": [
      "2 3\n",
      "3.0 2.0\n"
     ]
    }
   ],
   "source": [
    "\n",
    "a=int(input(\"enter the value of a:\"))\n",
    "b=int(input(\"enter the value of b:\"))\n",
    "print(a,b)\n",
    "a=a*b\n",
    "b=a/b\n",
    "a=a/b\n",
    "print(a,b)\n",
    "\n"
   ]
  },
  {
   "cell_type": "code",
   "execution_count": 15,
   "id": "2313b982-38c1-44b4-a91b-b11a75da1f1e",
   "metadata": {},
   "outputs": [
    {
     "name": "stdin",
     "output_type": "stream",
     "text": [
      "enter the value of a: 1\n",
      "enter the value of b: 2\n"
     ]
    },
    {
     "name": "stdout",
     "output_type": "stream",
     "text": [
      "1 2\n",
      "2 1\n"
     ]
    }
   ],
   "source": [
    "#using bitwise xor\n",
    "a=int(input(\"enter the value of a:\"))\n",
    "b=int(input(\"enter the value of b:\"))\n",
    "print(a,b)\n",
    "a=a^b\n",
    "b=a^b\n",
    "a=a^b\n",
    "print(a,b)\n",
    "\n"
   ]
  },
  {
   "cell_type": "code",
   "execution_count": 17,
   "id": "f1207176-d35a-4ad0-a970-1b48803583b0",
   "metadata": {},
   "outputs": [
    {
     "name": "stdin",
     "output_type": "stream",
     "text": [
      "enter the radius: 2\n"
     ]
    },
    {
     "name": "stdout",
     "output_type": "stream",
     "text": [
      "12.56 12.56\n"
     ]
    }
   ],
   "source": [
    "r=float(input(\"enter the radius:\"))\n",
    "pi=3.14\n",
    "area=pi*r**2\n",
    "circumference=2*pi*r\n",
    "print(area,circumference)\n"
   ]
  },
  {
   "cell_type": "code",
   "execution_count": 19,
   "id": "048da6df-2312-4197-820a-f4c45f6c5bf4",
   "metadata": {},
   "outputs": [
    {
     "name": "stdin",
     "output_type": "stream",
     "text": [
      "enter the radius: 3\n"
     ]
    },
    {
     "name": "stdout",
     "output_type": "stream",
     "text": [
      "28.274333882308138 18.84955592153876\n"
     ]
    }
   ],
   "source": [
    "from math import pi\n",
    "r=float(input(\"enter the radius:\"))\n",
    "area=pi*r**2\n",
    "circumference=2*pi*r\n",
    "print(area,circumference)\n"
   ]
  },
  {
   "cell_type": "code",
   "execution_count": 21,
   "id": "3622963c-403a-4af1-bf19-0bdda2f0f032",
   "metadata": {},
   "outputs": [
    {
     "name": "stdout",
     "output_type": "stream",
     "text": [
      "4.0\n",
      "8.0\n"
     ]
    }
   ],
   "source": [
    "#power and sqrt\n",
    "from math import sqrt,pow\n",
    "n=16\n",
    "print(sqrt(n))\n",
    "print(pow(2,3))\n"
   ]
  },
  {
   "cell_type": "code",
   "execution_count": 23,
   "id": "73590d42-547e-4d03-ab51-c0ac8ad642b4",
   "metadata": {},
   "outputs": [
    {
     "name": "stdout",
     "output_type": "stream",
     "text": [
      "sin: 0.49999999999999994\n",
      "cos: 0.8660254037844387\n",
      "tan: 0.5773502691896257\n"
     ]
    }
   ],
   "source": [
    "#trigonometric functions\n",
    "from math import sin,cos,tan,radians\n",
    "angle=30\n",
    "print(\"sin:\",sin(radians(angle)))\n",
    "print(\"cos:\",cos(radians(angle)))\n",
    "print(\"tan:\",tan(radians(angle)))\n"
   ]
  },
  {
   "cell_type": "code",
   "execution_count": 25,
   "id": "556839b4-cf09-47bc-b566-ccc2b29a6821",
   "metadata": {},
   "outputs": [
    {
     "name": "stdout",
     "output_type": "stream",
     "text": [
      "1\n",
      "2\n"
     ]
    }
   ],
   "source": [
    "from math import floor,ceil\n",
    "num=1.1\n",
    "print(floor(num))\n",
    "print(ceil(num))\n"
   ]
  },
  {
   "cell_type": "code",
   "execution_count": 27,
   "id": "10b22de6-5c13-4af0-b079-407d731bb24e",
   "metadata": {},
   "outputs": [
    {
     "name": "stdout",
     "output_type": "stream",
     "text": [
      "1\n",
      "2\n"
     ]
    }
   ],
   "source": [
    "from math import floor,ceil\n",
    "num=1.1\n",
    "print(floor(num))\n",
    "print(ceil(num))\n"
   ]
  },
  {
   "cell_type": "code",
   "execution_count": 29,
   "id": "9bf135e9-008f-4c2a-ba51-928bfe7291c8",
   "metadata": {},
   "outputs": [
    {
     "name": "stdout",
     "output_type": "stream",
     "text": [
      "1\n",
      "2\n"
     ]
    }
   ],
   "source": [
    "\n",
    "from math import floor,ceil\n",
    "num=1.9\n",
    "print(floor(num))\n",
    "print(ceil(num))\n"
   ]
  },
  {
   "cell_type": "code",
   "execution_count": 31,
   "id": "acd847d2-944a-4f84-a104-f6b13f563947",
   "metadata": {},
   "outputs": [
    {
     "name": "stdout",
     "output_type": "stream",
     "text": [
      "1\n",
      "1\n"
     ]
    }
   ],
   "source": [
    "from math import floor,ceil\n",
    "num=1\n",
    "print(floor(num))\n",
    "print(ceil(num))\n"
   ]
  },
  {
   "cell_type": "code",
   "execution_count": 33,
   "id": "1732c930-95d5-45c0-bcd2-972a79c63a9e",
   "metadata": {},
   "outputs": [
    {
     "name": "stdout",
     "output_type": "stream",
     "text": [
      "2025-05-09 11:41:31.527715\n",
      "2025-05-09\n"
     ]
    }
   ],
   "source": [
    "from datetime import datetime\n",
    "now=datetime.now()\n",
    "print(now)\n",
    "print(now.date())\n",
    "\n"
   ]
  },
  {
   "cell_type": "code",
   "execution_count": 5,
   "id": "8e040940-d299-474a-98fe-f916a2c20f3f",
   "metadata": {},
   "outputs": [
    {
     "name": "stdout",
     "output_type": "stream",
     "text": [
      "                                  2025\n",
      "\n",
      "      January                   February                   March\n",
      "Mo Tu We Th Fr Sa Su      Mo Tu We Th Fr Sa Su      Mo Tu We Th Fr Sa Su\n",
      "       1  2  3  4  5                      1  2                      1  2\n",
      " 6  7  8  9 10 11 12       3  4  5  6  7  8  9       3  4  5  6  7  8  9\n",
      "13 14 15 16 17 18 19      10 11 12 13 14 15 16      10 11 12 13 14 15 16\n",
      "20 21 22 23 24 25 26      17 18 19 20 21 22 23      17 18 19 20 21 22 23\n",
      "27 28 29 30 31            24 25 26 27 28            24 25 26 27 28 29 30\n",
      "                                                    31\n",
      "\n",
      "       April                      May                       June\n",
      "Mo Tu We Th Fr Sa Su      Mo Tu We Th Fr Sa Su      Mo Tu We Th Fr Sa Su\n",
      "    1  2  3  4  5  6                1  2  3  4                         1\n",
      " 7  8  9 10 11 12 13       5  6  7  8  9 10 11       2  3  4  5  6  7  8\n",
      "14 15 16 17 18 19 20      12 13 14 15 16 17 18       9 10 11 12 13 14 15\n",
      "21 22 23 24 25 26 27      19 20 21 22 23 24 25      16 17 18 19 20 21 22\n",
      "28 29 30                  26 27 28 29 30 31         23 24 25 26 27 28 29\n",
      "                                                    30\n",
      "\n",
      "        July                     August                  September\n",
      "Mo Tu We Th Fr Sa Su      Mo Tu We Th Fr Sa Su      Mo Tu We Th Fr Sa Su\n",
      "    1  2  3  4  5  6                   1  2  3       1  2  3  4  5  6  7\n",
      " 7  8  9 10 11 12 13       4  5  6  7  8  9 10       8  9 10 11 12 13 14\n",
      "14 15 16 17 18 19 20      11 12 13 14 15 16 17      15 16 17 18 19 20 21\n",
      "21 22 23 24 25 26 27      18 19 20 21 22 23 24      22 23 24 25 26 27 28\n",
      "28 29 30 31               25 26 27 28 29 30 31      29 30\n",
      "\n",
      "      October                   November                  December\n",
      "Mo Tu We Th Fr Sa Su      Mo Tu We Th Fr Sa Su      Mo Tu We Th Fr Sa Su\n",
      "       1  2  3  4  5                      1  2       1  2  3  4  5  6  7\n",
      " 6  7  8  9 10 11 12       3  4  5  6  7  8  9       8  9 10 11 12 13 14\n",
      "13 14 15 16 17 18 19      10 11 12 13 14 15 16      15 16 17 18 19 20 21\n",
      "20 21 22 23 24 25 26      17 18 19 20 21 22 23      22 23 24 25 26 27 28\n",
      "27 28 29 30 31            24 25 26 27 28 29 30      29 30 31\n",
      "\n"
     ]
    }
   ],
   "source": [
    "import calendar\n",
    "year=2025\n",
    "print(calendar.calendar(year))\n"
   ]
  },
  {
   "cell_type": "code",
   "execution_count": 3,
   "id": "b99cef41-64a1-4718-b165-0dee9597cc85",
   "metadata": {},
   "outputs": [
    {
     "name": "stdin",
     "output_type": "stream",
     "text": [
      "enter the value 1\n"
     ]
    },
    {
     "name": "stdout",
     "output_type": "stream",
     "text": [
      "1\n"
     ]
    }
   ],
   "source": [
    "a=int(input(\"enter the value\"))\n",
    "print(a)"
   ]
  },
  {
   "cell_type": "code",
   "execution_count": 9,
   "id": "0c181d9a-587e-4569-9ce2-5403387a862f",
   "metadata": {},
   "outputs": [
    {
     "name": "stdout",
     "output_type": "stream",
     "text": [
      "is leap year True\n"
     ]
    }
   ],
   "source": [
    "import calendar\n",
    "year=2024\n",
    "print(\"is leap year\",calendar.isleap(year))\n"
   ]
  },
  {
   "cell_type": "code",
   "execution_count": 11,
   "id": "414dc33d-de20-4dfb-a848-56e739fadcbf",
   "metadata": {},
   "outputs": [
    {
     "name": "stdout",
     "output_type": "stream",
     "text": [
      "494\n"
     ]
    }
   ],
   "source": [
    "#dates difference\n",
    "from datetime import date\n",
    "d1=date(2025,5,9)\n",
    "d2=date(2024,1,1)\n",
    "diff=d1-d2\n",
    "print(diff.days)"
   ]
  },
  {
   "cell_type": "code",
   "execution_count": 13,
   "id": "01f5780c-1948-42c2-9bf0-a17290087445",
   "metadata": {},
   "outputs": [
    {
     "name": "stdout",
     "output_type": "stream",
     "text": [
      "Friday\n"
     ]
    }
   ],
   "source": [
    "#day observation\n",
    "from datetime import date\n",
    "today=date.today()\n",
    "name=today.strftime(\"%A\")\n",
    "print(name)\n",
    "                    "
   ]
  },
  {
   "cell_type": "code",
   "execution_count": 17,
   "id": "dcadb3cf-2c36-43df-831f-34ca8d3fcab6",
   "metadata": {},
   "outputs": [
    {
     "name": "stdout",
     "output_type": "stream",
     "text": [
      "2025-05-09\n"
     ]
    }
   ],
   "source": [
    "from datetime import date\n",
    "today=date.today()\n",
    "print(today)\n"
   ]
  },
  {
   "cell_type": "code",
   "execution_count": 27,
   "id": "41f7ed9e-1daf-43a2-8579-2a51e85ee38e",
   "metadata": {},
   "outputs": [
    {
     "name": "stdout",
     "output_type": "stream",
     "text": [
      "Thursday,2025-00-05/01/25\n",
      "Saturday,2025-00-05/31/25\n"
     ]
    }
   ],
   "source": [
    "#print first and last date of a month\n",
    "import calendar \n",
    "from datetime import date\n",
    "year=2025\n",
    "month=5\n",
    "fday=date(year,month,1)\n",
    "lday=date(year,month,calendar.monthrange(year,month)[1])\n",
    "print(fday.strftime(\"%A,%Y-%M-%D\"))\n",
    "print(lday.strftime(\"%A,%Y-%M-%D\"))"
   ]
  },
  {
   "cell_type": "code",
   "execution_count": null,
   "id": "d9661772-32f9-4ebd-91b0-851438b98ae2",
   "metadata": {},
   "outputs": [],
   "source": []
  }
 ],
 "metadata": {
  "kernelspec": {
   "display_name": "Python 3 (ipykernel)",
   "language": "python",
   "name": "python3"
  },
  "language_info": {
   "codemirror_mode": {
    "name": "ipython",
    "version": 3
   },
   "file_extension": ".py",
   "mimetype": "text/x-python",
   "name": "python",
   "nbconvert_exporter": "python",
   "pygments_lexer": "ipython3",
   "version": "3.12.7"
  }
 },
 "nbformat": 4,
 "nbformat_minor": 5
}

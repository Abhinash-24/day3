{
 "cells": [
  {
   "cell_type": "code",
   "execution_count": 3,
   "id": "504d5c36-8b67-4d51-8f31-4543fcd2b40d",
   "metadata": {},
   "outputs": [
    {
     "name": "stdout",
     "output_type": "stream",
     "text": [
      " Hello students!! How are you\n"
     ]
    }
   ],
   "source": [
    "file=open(\"kitkat.txt\",\"r\")\n",
    "data=file.read()\n",
    "print(\"\",data)\n",
    "file.close()"
   ]
  },
  {
   "cell_type": "code",
   "execution_count": 15,
   "id": "4dffda69-ec50-485e-8f2b-26d4eca487bb",
   "metadata": {},
   "outputs": [],
   "source": [
    "f=open(\"eeeee.text\",\"w\")\n",
    "f.write(\",,,,,,,\")\n",
    "f.close()"
   ]
  },
  {
   "cell_type": "code",
   "execution_count": 17,
   "id": "975236cc-9208-4257-91ab-674cc3dac30b",
   "metadata": {},
   "outputs": [],
   "source": [
    "with open(\"root.txt\",'w') as vj:\n",
    "    vj.write(\"hello vijay....how are you\")"
   ]
  },
  {
   "cell_type": "code",
   "execution_count": null,
   "id": "5096d178-7719-45ff-b671-677a90d3a4fd",
   "metadata": {},
   "outputs": [],
   "source": []
  }
 ],
 "metadata": {
  "kernelspec": {
   "display_name": "Python 3 (ipykernel)",
   "language": "python",
   "name": "python3"
  },
  "language_info": {
   "codemirror_mode": {
    "name": "ipython",
    "version": 3
   },
   "file_extension": ".py",
   "mimetype": "text/x-python",
   "name": "python",
   "nbconvert_exporter": "python",
   "pygments_lexer": "ipython3",
   "version": "3.12.7"
  }
 },
 "nbformat": 4,
 "nbformat_minor": 5
}

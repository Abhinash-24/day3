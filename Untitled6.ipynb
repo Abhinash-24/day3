{
 "cells": [
  {
   "cell_type": "code",
   "execution_count": 1,
   "id": "f11f3cd3-1d52-46ae-9504-0472e404dab5",
   "metadata": {},
   "outputs": [
    {
     "name": "stdout",
     "output_type": "stream",
     "text": [
      "hi students\n",
      "india\n"
     ]
    }
   ],
   "source": [
    "num=99\n",
    "if(num>0):\n",
    "    print(\"hi students\")\n",
    "print(\"india\")\n"
   ]
  },
  {
   "cell_type": "code",
   "execution_count": 3,
   "id": "7334c6c6-52bc-4b20-a928-041dd149e172",
   "metadata": {},
   "outputs": [
    {
     "name": "stdout",
     "output_type": "stream",
     "text": [
      "india\n"
     ]
    }
   ],
   "source": [
    "num=-99\n",
    "if(num>0): \n",
    "    print(\"hi students\")\n",
    "print(\"india\")\n"
   ]
  },
  {
   "cell_type": "code",
   "execution_count": 5,
   "id": "3ca8911b-475e-4324-bb68-9b7b51636c32",
   "metadata": {},
   "outputs": [
    {
     "name": "stdin",
     "output_type": "stream",
     "text": [
      "enter the age 19\n"
     ]
    },
    {
     "name": "stdout",
     "output_type": "stream",
     "text": [
      "eligible\n"
     ]
    }
   ],
   "source": [
    "'''write a progra to check whether the person is eligible to vote by using if condition.\n",
    "testcase:\n",
    "input 23\n",
    "output:eligible'''\n",
    "person=int(input(\"enter the age\"))\n",
    "limit=18\n",
    "if person>=limit:\n",
    "    print(\"eligible\")"
   ]
  },
  {
   "cell_type": "code",
   "execution_count": 9,
   "id": "1bbdf08e-aef6-4082-8f71-33485fa88fed",
   "metadata": {},
   "outputs": [
    {
     "name": "stdin",
     "output_type": "stream",
     "text": [
      "enter the number 1\n"
     ]
    },
    {
     "name": "stdout",
     "output_type": "stream",
     "text": [
      "1 is a odd number\n",
      "after condition exit\n"
     ]
    }
   ],
   "source": [
    "'''print whether the number is even and skip the condition if not'''\n",
    "num=int(input(\"enter the number\"))\n",
    "if num%2==0:\n",
    "    print(num,\"is a odd number\")#num!=0\n",
    "print(\"after condition exit\")\n"
   ]
  },
  {
   "cell_type": "code",
   "execution_count": 23,
   "id": "013390d2-2a5c-4d77-878c-780e9fe73d6d",
   "metadata": {},
   "outputs": [
    {
     "name": "stdin",
     "output_type": "stream",
     "text": [
      "press any key: a\n"
     ]
    },
    {
     "name": "stdout",
     "output_type": "stream",
     "text": [
      "the user has entered character\n"
     ]
    }
   ],
   "source": [
    "'''program to deter4mine the character entered by a user ,whether it is an alphabet,\n",
    "digit or pace by using seperate if condition and predefined string function'''\n",
    "char=input(\"press any key:\")\n",
    "if char.isalpha():\n",
    "    print(\"the user has entered character\")\n",
    "if char.isdigit():\n",
    "    print(\"the user has entered digit\")\n",
    "if char.isspace():\n",
    "    print(\"the user has ntered space\")    "
   ]
  },
  {
   "cell_type": "code",
   "execution_count": 25,
   "id": "ebab685a-32fd-422e-9b86-44a8b38b499f",
   "metadata": {},
   "outputs": [
    {
     "name": "stdin",
     "output_type": "stream",
     "text": [
      "press any key: 1\n"
     ]
    },
    {
     "name": "stdout",
     "output_type": "stream",
     "text": [
      "the user has entered digit\n"
     ]
    }
   ],
   "source": [
    "'''program to deter4mine the character entered by a user ,whether it is an alphabet,\n",
    "digit or pace by using seperate if condition and predefined string function'''\n",
    "char=input(\"press any key:\")\n",
    "if char.isalpha():\n",
    "    print(\"the user has entered character\")\n",
    "if char.isdigit():\n",
    "    print(\"the user has entered digit\")\n",
    "if char.isspace():\n",
    "    print(\"the user has ntered space\")    "
   ]
  },
  {
   "cell_type": "code",
   "execution_count": 27,
   "id": "321dd42a-2fcc-4d9a-9dbb-c795fd7a08c4",
   "metadata": {},
   "outputs": [
    {
     "name": "stdin",
     "output_type": "stream",
     "text": [
      "press any key:  \n"
     ]
    },
    {
     "name": "stdout",
     "output_type": "stream",
     "text": [
      "the user has ntered space\n"
     ]
    }
   ],
   "source": [
    "'''program to deter4mine the character entered by a user ,whether it is an alphabet,\n",
    "digit or pace by using seperate if condition and predefined string function'''\n",
    "char=input(\"press any key:\")\n",
    "if char.isalpha():\n",
    "    print(\"the user has entered character\")\n",
    "if char.isdigit():\n",
    "    print(\"the user has entered digit\")\n",
    "if char.isspace():\n",
    "    print(\"the user has ntered space\")    "
   ]
  },
  {
   "cell_type": "code",
   "execution_count": 29,
   "id": "1842e323-844e-492e-b266-37f99fdebd14",
   "metadata": {},
   "outputs": [
    {
     "name": "stdin",
     "output_type": "stream",
     "text": [
      "enter the age 2\n"
     ]
    },
    {
     "name": "stdout",
     "output_type": "stream",
     "text": [
      "under aged\n"
     ]
    }
   ],
   "source": [
    "\n",
    "person=int(input(\"enter the age\"))\n",
    "limit=18\n",
    "if person>=limit:\n",
    "    print(\"eligible\")\n",
    "else:\n",
    "    print(\"under aged\")"
   ]
  },
  {
   "cell_type": "code",
   "execution_count": 31,
   "id": "6c35208c-d4b5-4c5a-a536-e108ccedaec9",
   "metadata": {},
   "outputs": [
    {
     "name": "stdin",
     "output_type": "stream",
     "text": [
      "enter the age 44\n"
     ]
    },
    {
     "name": "stdout",
     "output_type": "stream",
     "text": [
      "eligible\n"
     ]
    }
   ],
   "source": [
    "person=int(input(\"enter the age\"))\n",
    "limit=18\n",
    "if person>=limit:\n",
    "    print(\"eligible\")\n",
    "else:\n",
    "    print(\"under aged\")\n",
    "    "
   ]
  },
  {
   "cell_type": "code",
   "execution_count": 37,
   "id": "8d4d1839-d18f-4349-90a2-7c92af64986c",
   "metadata": {},
   "outputs": [
    {
     "name": "stdin",
     "output_type": "stream",
     "text": [
      "enter the value of a: 2\n",
      "enter the value of b: 1\n"
     ]
    },
    {
     "name": "stdout",
     "output_type": "stream",
     "text": [
      "small value is 1\n"
     ]
    }
   ],
   "source": [
    "'''wrte a program to find the smallest of two numbers by using if-else condition\n",
    "where take a manual input from the user\n",
    "a=-4\n",
    "b=-99'''\n",
    "a=int(input(\"enter the value of a:\"))\n",
    "b=int(input(\"enter the value of b:\"))\n",
    "if a<b:\n",
    "    small=a\n",
    "else:\n",
    "    small=b\n",
    "print(\"small value is\",small)"
   ]
  },
  {
   "cell_type": "code",
   "execution_count": 39,
   "id": "ec90e3b5-c45d-408e-9447-5976dcc23ad6",
   "metadata": {},
   "outputs": [
    {
     "name": "stdin",
     "output_type": "stream",
     "text": [
      "enter the value of a: 1\n",
      "enter the value of b: 2\n"
     ]
    },
    {
     "name": "stdout",
     "output_type": "stream",
     "text": [
      "small value is 1\n"
     ]
    }
   ],
   "source": [
    "a=int(input(\"enter the value of a:\"))\n",
    "b=int(input(\"enter the value of b:\"))\n",
    "if a<b:\n",
    "    small=a\n",
    "else:\n",
    "    small=b\n",
    "print(\"small value is\",small)"
   ]
  },
  {
   "cell_type": "code",
   "execution_count": 41,
   "id": "f0e4f534-5c60-44e1-aaec-b29faf3633bf",
   "metadata": {},
   "outputs": [
    {
     "name": "stdin",
     "output_type": "stream",
     "text": [
      "enter the value of a: 10\n",
      "enter the value of b: 15\n"
     ]
    },
    {
     "name": "stdout",
     "output_type": "stream",
     "text": [
      "small value is 10\n"
     ]
    }
   ],
   "source": [
    "a=int(input(\"enter the value of a:\"))\n",
    "b=int(input(\"enter the value of b:\"))\n",
    "if a<b:\n",
    "    small=a\n",
    "else:\n",
    "    small=b\n",
    "print(\"small value is\",small)"
   ]
  },
  {
   "cell_type": "code",
   "execution_count": 43,
   "id": "8c9a3fec-db61-41f9-a774-654307732849",
   "metadata": {},
   "outputs": [
    {
     "name": "stdin",
     "output_type": "stream",
     "text": [
      "enter any character from a-z a\n"
     ]
    },
    {
     "name": "stdout",
     "output_type": "stream",
     "text": [
      "converted case o input char: A\n"
     ]
    }
   ],
   "source": [
    "'''write a program to enter a character (a to z),\n",
    "if the entered character is in lower convert into upper and viceversa\n",
    "input:a\n",
    "output:A\n",
    "input:y\n",
    "output:Y'''\n",
    "ch=input(\"enter any character from a-z\")\n",
    "if ch>='A' and ch<='Z':\n",
    "    ch=ch.lower()\n",
    "    print(\"converted case of input char:\",ch)\n",
    "else:\n",
    "    ch=ch.upper()\n",
    "    print(\"converted case of input char:\",ch)"
   ]
  },
  {
   "cell_type": "code",
   "execution_count": 45,
   "id": "b7f87abc-0d22-4cef-827b-a38a1c310bcc",
   "metadata": {},
   "outputs": [
    {
     "name": "stdin",
     "output_type": "stream",
     "text": [
      "enter any character from a-z S\n"
     ]
    },
    {
     "name": "stdout",
     "output_type": "stream",
     "text": [
      "converted case o input char: s\n"
     ]
    }
   ],
   "source": [
    "ch=input(\"enter any character from a-z\")\n",
    "if ch>='A' and ch<='Z':\n",
    "    ch=ch.lower()\n",
    "    print(\"converted case of input char:\",ch)\n",
    "else:\n",
    "    ch=ch.upper()\n",
    "    print(\"converted case of input char:\",ch)"
   ]
  },
  {
   "cell_type": "code",
   "execution_count": 49,
   "id": "56c9574e-47db-4e4f-967c-9fb9e15fe59c",
   "metadata": {},
   "outputs": [
    {
     "name": "stdin",
     "output_type": "stream",
     "text": [
      "enter year: 2024\n"
     ]
    },
    {
     "name": "stdout",
     "output_type": "stream",
     "text": [
      "2024 is a leap year\n"
     ]
    }
   ],
   "source": [
    "'''check whether the given input is aleap year \n",
    "for 4 years and centurians by if-else'''\n",
    "y=int(input(\"enter year:\"))\n",
    "if y%4==0 or y%100==0 or y%400==0:\n",
    "    print(y,\"is a leap year\")\n",
    "else:\n",
    "    print(y,\"is not a leap year\")\n"
   ]
  },
  {
   "cell_type": "code",
   "execution_count": 51,
   "id": "a06fada3-3b10-4bba-b604-d1420c9f4c30",
   "metadata": {},
   "outputs": [
    {
     "name": "stdin",
     "output_type": "stream",
     "text": [
      "enter the number: 0\n"
     ]
    },
    {
     "name": "stdout",
     "output_type": "stream",
     "text": [
      "zero entered\n"
     ]
    }
   ],
   "source": [
    "'''write a program to check whether the given number is a positive ,negative and zero'''\n",
    "num=int(input(\"enter the number:\"))\n",
    "if num==0:\n",
    "    print(\"zero entered\")\n",
    "elif num>0:\n",
    "    print(\"positive number\")\n",
    "else:\n",
    "    print(\"negative number\")"
   ]
  },
  {
   "cell_type": "code",
   "execution_count": 53,
   "id": "6d82abd9-845b-4859-8bd9-60b15eefbf66",
   "metadata": {},
   "outputs": [
    {
     "name": "stdin",
     "output_type": "stream",
     "text": [
      "enter the number: -2\n"
     ]
    },
    {
     "name": "stdout",
     "output_type": "stream",
     "text": [
      "negative number\n"
     ]
    }
   ],
   "source": [
    "num=int(input(\"enter the number:\"))\n",
    "if num==0:\n",
    "    print(\"zero entered\")\n",
    "elif num>0:\n",
    "    print(\"positive number\")\n",
    "else:\n",
    "    print(\"negative number\")"
   ]
  },
  {
   "cell_type": "code",
   "execution_count": 55,
   "id": "a7c96e2b-2f07-45d5-83b9-e547a00e02ac",
   "metadata": {},
   "outputs": [
    {
     "name": "stdin",
     "output_type": "stream",
     "text": [
      "enter the number: 4\n"
     ]
    },
    {
     "name": "stdout",
     "output_type": "stream",
     "text": [
      "positive number\n"
     ]
    }
   ],
   "source": [
    "num=int(input(\"enter the number:\"))\n",
    "if num==0:\n",
    "    print(\"zero entered\")\n",
    "elif num>0:\n",
    "    print(\"positive number\")\n",
    "else:\n",
    "    print(\"negative number\")"
   ]
  },
  {
   "cell_type": "code",
   "execution_count": 57,
   "id": "4aa62207-d464-49af-ada4-98d4f01e348f",
   "metadata": {},
   "outputs": [
    {
     "name": "stdin",
     "output_type": "stream",
     "text": [
      "enter the number between 1-7: 3\n"
     ]
    },
    {
     "name": "stdout",
     "output_type": "stream",
     "text": [
      "tuesday\n"
     ]
    }
   ],
   "source": [
    "num=int(input(\"enter the number between 1-7:\"))\n",
    "if num==1: print(\"sunday\")\n",
    "elif num==2: print(\"monday\")\n",
    "elif num==3: print(\"tuesday\")\n",
    "elif num==4: print(\"wednesday\")\n",
    "elif num==5: print(\"thursday\")\n",
    "elif num==6: print(\"friday\")\n",
    "elif num==7: print(\"saturday\")\n",
    "else: print(\"wrong input\")"
   ]
  },
  {
   "cell_type": "code",
   "execution_count": 67,
   "id": "03412c49-e242-48d0-b371-5c951a6383c7",
   "metadata": {},
   "outputs": [
    {
     "ename": "SyntaxError",
     "evalue": "invalid syntax (3327609396.py, line 4)",
     "output_type": "error",
     "traceback": [
      "\u001b[1;36m  Cell \u001b[1;32mIn[67], line 4\u001b[1;36m\u001b[0m\n\u001b[1;33m    if ch=='a' or ch=='e' or ch=='i' ch=='o' ch=='u':\u001b[0m\n\u001b[1;37m                                     ^\u001b[0m\n\u001b[1;31mSyntaxError\u001b[0m\u001b[1;31m:\u001b[0m invalid syntax\n"
     ]
    }
   ],
   "source": [
    "'''write a progran to find the entered character is a vowel or a consonant,\n",
    "while user input could be either upper or lowerusing if-elif-else''' \n",
    "ch=input(\"enter the character:\")\n",
    "if ch=='a' or ch=='e' or ch=='i' or ch=='o'or ch=='u':\n",
    "    print(ch,\"is a vowel\")\n",
    "elif ch=='A' or ch=='E' or ch=='I' ch=='O' ch=='U': \n",
    "    print(ch,\"is a vowel\")\n",
    "else:\n",
    "    print(ch,\"is a consonant\")\n"
   ]
  },
  {
   "cell_type": "code",
   "execution_count": null,
   "id": "89e3ce80-9a3d-49f8-9e3d-4a74698ad0dc",
   "metadata": {},
   "outputs": [],
   "source": []
  }
 ],
 "metadata": {
  "kernelspec": {
   "display_name": "Python 3 (ipykernel)",
   "language": "python",
   "name": "python3"
  },
  "language_info": {
   "codemirror_mode": {
    "name": "ipython",
    "version": 3
   },
   "file_extension": ".py",
   "mimetype": "text/x-python",
   "name": "python",
   "nbconvert_exporter": "python",
   "pygments_lexer": "ipython3",
   "version": "3.12.7"
  }
 },
 "nbformat": 4,
 "nbformat_minor": 5
}

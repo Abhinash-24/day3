{
 "cells": [
  {
   "cell_type": "code",
   "execution_count": 8,
   "id": "f63b25be-b969-44ba-b535-9dce5515bf70",
   "metadata": {},
   "outputs": [
    {
     "name": "stdout",
     "output_type": "stream",
     "text": [
      "sarah\n",
      "i love you\n"
     ]
    }
   ],
   "source": [
    "def hi():\n",
    "     print(\"sarah\")\n",
    "     print(\"i love you\"*1)\n",
    "hi()"
   ]
  },
  {
   "cell_type": "code",
   "execution_count": 109,
   "id": "95f24c5b-724b-4436-b74d-b1e654219d53",
   "metadata": {},
   "outputs": [
    {
     "name": "stdin",
     "output_type": "stream",
     "text": [
      "enter the money: 140\n",
      "enter the money: 3\n"
     ]
    },
    {
     "name": "stdout",
     "output_type": "stream",
     "text": [
      "total 143\n"
     ]
    }
   ],
   "source": [
    "#function withy parameters retrurn value\n",
    "def add(a,b):\n",
    "    return a+b\n",
    "student1=int(input(\"enter the money:\"))\n",
    "student2=int(input(\"enter the money:\"))\n",
    "total=add(student1,student2)\n",
    "print(\"total\",total)\n"
   ]
  },
  {
   "cell_type": "code",
   "execution_count": 107,
   "id": "1deef532-9766-4bbd-9e55-96090cbf0b35",
   "metadata": {},
   "outputs": [
    {
     "name": "stdin",
     "output_type": "stream",
     "text": [
      "enter the money: 140\n",
      "enter the money: 3\n"
     ]
    },
    {
     "name": "stdout",
     "output_type": "stream",
     "text": [
      "total: 143\n"
     ]
    }
   ],
   "source": [
    "def add(student1,student2):\n",
    "    print(\"total:\",student1+student2)\n",
    "student1=int(input(\"enter the money:\"))\n",
    "student2=int(input(\"enter the money:\"))\n",
    "add(student1,student2)\n"
   ]
  },
  {
   "cell_type": "code",
   "execution_count": 69,
   "id": "b4dd14c7-06a1-485c-8c2c-1ee07f277ceb",
   "metadata": {},
   "outputs": [
    {
     "name": "stdin",
     "output_type": "stream",
     "text": [
      "enter the name sarah=princess\n"
     ]
    },
    {
     "name": "stdout",
     "output_type": "stream",
     "text": [
      "sarah=princess\n"
     ]
    }
   ],
   "source": [
    "def get_name():\n",
    "    name=input(\"enter the name\")\n",
    "    return name\n",
    "username=get_name()\n",
    "print(username)\n",
    "    "
   ]
  },
  {
   "cell_type": "code",
   "execution_count": 105,
   "id": "47dd2790-5071-4590-a219-22c7e614f37f",
   "metadata": {},
   "outputs": [
    {
     "name": "stdout",
     "output_type": "stream",
     "text": [
      "value is the function is 143\n"
     ]
    }
   ],
   "source": [
    "def value():\n",
    "    return 143\n",
    "result=value()\n",
    "print(\"value is the function is\",result)"
   ]
  },
  {
   "cell_type": "code",
   "execution_count": 103,
   "id": "feb1c982-e66c-4c06-a16a-4d9ea8544f8f",
   "metadata": {},
   "outputs": [
    {
     "name": "stdout",
     "output_type": "stream",
     "text": [
      "10102024\n"
     ]
    }
   ],
   "source": [
    "a=10102024\n",
    "def value(a):\n",
    "    return a\n",
    "out=value(a)\n",
    "print(out)"
   ]
  },
  {
   "cell_type": "code",
   "execution_count": 97,
   "id": "4062de75-abcb-422b-8b31-bcff55e47e03",
   "metadata": {},
   "outputs": [
    {
     "name": "stdout",
     "output_type": "stream",
     "text": [
      "oyy sarah i love you\n"
     ]
    }
   ],
   "source": [
    "def hi(name):\n",
    "    print(\"oyy\",name)\n",
    "hi(\"sarah i love you\")"
   ]
  },
  {
   "cell_type": "code",
   "execution_count": 117,
   "id": "0f5c9401-7e25-4756-bff5-999a09f76820",
   "metadata": {},
   "outputs": [
    {
     "name": "stdout",
     "output_type": "stream",
     "text": [
      "Name Vijay\n",
      "Age 32\n",
      "Name Mark\n",
      "Age 0\n",
      "Name unknown\n",
      "Age 33\n",
      "Name unknown\n",
      "Age 0\n"
     ]
    }
   ],
   "source": [
    "def info(name='unknown',age=0):\n",
    "    print(\"Name\",name)\n",
    "    print(\"Age\",age)\n",
    "info(\"Vijay\",32)\n",
    "info(\"Mark\")\n",
    "info(age=33)\n",
    "info()"
   ]
  },
  {
   "cell_type": "code",
   "execution_count": 121,
   "id": "dc01f5e4-3b5b-4b2b-b75a-3aea965035b8",
   "metadata": {},
   "outputs": [
    {
     "name": "stdin",
     "output_type": "stream",
     "text": [
      " 12\n",
      " 12\n"
     ]
    },
    {
     "name": "stdout",
     "output_type": "stream",
     "text": [
      "sum (24, 0, 144, 1.0)\n"
     ]
    }
   ],
   "source": [
    "def cal(a,b):\n",
    "    return a+b,a-b,a*b,a/b\n",
    "a=int(input(\"\"))\n",
    "b=int(input(\"\"))\n",
    "sum=cal(a,b)\n",
    "print(\"sum\",sum)"
   ]
  },
  {
   "cell_type": "code",
   "execution_count": 131,
   "id": "c2308c55-f66d-4191-80c8-e4a80919677d",
   "metadata": {},
   "outputs": [
    {
     "name": "stdin",
     "output_type": "stream",
     "text": [
      " 10\n",
      " 10\n"
     ]
    },
    {
     "name": "stdout",
     "output_type": "stream",
     "text": [
      "sum 20\n",
      "sub 0\n",
      "pro 100\n",
      "div 1.0\n"
     ]
    }
   ],
   "source": [
    "def cal(a,b):\n",
    "    return a+b,a-b,a*b,a/b\n",
    "a=int(input(\"\"))\n",
    "b=int(input(\"\"))\n",
    "sum,sub,pro,div=cal(a,b)\n",
    "print(\"sum\",sum)\n",
    "print(\"sub\",sub)\n",
    "print(\"pro\",pro)\n",
    "print(\"div\",div)"
   ]
  },
  {
   "cell_type": "code",
   "execution_count": 135,
   "id": "a67a2168-949a-4840-929c-72a8d1911063",
   "metadata": {},
   "outputs": [
    {
     "name": "stdin",
     "output_type": "stream",
     "text": [
      " 10\n",
      " 20\n",
      " 40\n"
     ]
    },
    {
     "name": "stdout",
     "output_type": "stream",
     "text": [
      "maximim 40\n",
      "minimum 10\n"
     ]
    }
   ],
   "source": [
    "def max_min(a,b,c):\n",
    "    return max(a,b,c),min(a,b,c)\n",
    "a=int(input(\"\"))\n",
    "b=int(input(\"\"))\n",
    "c=int(input(\"\")) \n",
    "maxi,mini=max_min(a,b,c)\n",
    "print(\"maximim\",maxi)\n",
    "print(\"minimum\",mini)"
   ]
  },
  {
   "cell_type": "code",
   "execution_count": 139,
   "id": "adf5eb81-f585-4d20-bd67-dc7e86d9ed3f",
   "metadata": {},
   "outputs": [
    {
     "name": "stdin",
     "output_type": "stream",
     "text": [
      " 1 3 4 5 6 7\n"
     ]
    },
    {
     "name": "stdout",
     "output_type": "stream",
     "text": [
      "even count: 2\n",
      "odd count: 4\n"
     ]
    }
   ],
   "source": [
    "def eo(numbers):\n",
    "    e=0\n",
    "    o=0\n",
    "    for n in numbers:\n",
    "        if n%2==0:\n",
    "            e+=1\n",
    "        else:\n",
    "            o+=1\n",
    "    return e,o\n",
    "num=(input(\"\"))\n",
    "num_list=list(map(int,num.split()))\n",
    "e,o=eo(num_list)\n",
    "print(\"even count:\",e)\n",
    "print(\"odd count:\",o)"
   ]
  },
  {
   "cell_type": "code",
   "execution_count": 141,
   "id": "baaae857-b6d4-4204-a339-4a7797271f88",
   "metadata": {},
   "outputs": [
    {
     "name": "stdout",
     "output_type": "stream",
     "text": [
      "27\n"
     ]
    }
   ],
   "source": [
    "expo=lambda a:a**a\n",
    "print(expo(3))"
   ]
  },
  {
   "cell_type": "code",
   "execution_count": 143,
   "id": "4b3ca735-c763-4b7d-9cd7-f4753ffd338f",
   "metadata": {},
   "outputs": [
    {
     "name": "stdout",
     "output_type": "stream",
     "text": [
      " 15\n"
     ]
    }
   ],
   "source": [
    "add=lambda a,b:a+b\n",
    "print(\"\",add(7,8))"
   ]
  },
  {
   "cell_type": "code",
   "execution_count": 145,
   "id": "2a5764d6-48ce-493d-81ed-2180befe2dea",
   "metadata": {},
   "outputs": [
    {
     "name": "stdout",
     "output_type": "stream",
     "text": [
      " True\n"
     ]
    }
   ],
   "source": [
    "is_even=lambda n:n%2==0\n",
    "print(\"\",is_even(6))"
   ]
  },
  {
   "cell_type": "code",
   "execution_count": null,
   "id": "24fa256a-e081-4d16-af04-ef05941402e4",
   "metadata": {},
   "outputs": [],
   "source": []
  }
 ],
 "metadata": {
  "kernelspec": {
   "display_name": "Python 3 (ipykernel)",
   "language": "python",
   "name": "python3"
  },
  "language_info": {
   "codemirror_mode": {
    "name": "ipython",
    "version": 3
   },
   "file_extension": ".py",
   "mimetype": "text/x-python",
   "name": "python",
   "nbconvert_exporter": "python",
   "pygments_lexer": "ipython3",
   "version": "3.12.7"
  }
 },
 "nbformat": 4,
 "nbformat_minor": 5
}

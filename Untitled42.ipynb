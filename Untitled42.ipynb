{
 "cells": [
  {
   "cell_type": "code",
   "execution_count": 7,
   "id": "9b7fdb47-63a0-4648-bea5-390d65083a48",
   "metadata": {},
   "outputs": [
    {
     "name": "stdout",
     "output_type": "stream",
     "text": [
      "{1}\n",
      "{4}\n",
      "{9}\n",
      "{16}\n",
      "{25}\n",
      "{36}\n",
      "{49}\n",
      "{64}\n",
      "{81}\n"
     ]
    }
   ],
   "source": [
    "'''write a program to print the square of number from  1 to 10'''\n",
    "for i in range(1,10):\n",
    "    print({i*i})"
   ]
  },
  {
   "cell_type": "code",
   "execution_count": 9,
   "id": "e247a3bc-2cb0-46ee-b57a-335fbbf625e8",
   "metadata": {},
   "outputs": [
    {
     "name": "stdout",
     "output_type": "stream",
     "text": [
      "i\n",
      "n\n",
      "d\n",
      "i\n",
      "a\n",
      " \n",
      "w\n",
      "o\n",
      "n\n"
     ]
    }
   ],
   "source": [
    "for i in \"india won\":\n",
    "    print(i)"
   ]
  },
  {
   "cell_type": "code",
   "execution_count": 27,
   "id": "0219697e-2adb-4211-b08a-abe7f94efcf8",
   "metadata": {},
   "outputs": [
    {
     "name": "stdin",
     "output_type": "stream",
     "text": [
      "enter the number 3\n"
     ]
    },
    {
     "name": "stdout",
     "output_type": "stream",
     "text": [
      "6\n"
     ]
    }
   ],
   "source": [
    "#factorial program\n",
    "n=int(input(\"enter the number\"))\n",
    "fact=1\n",
    "for i in range(1,n+1):\n",
    "    fact*=i\n",
    "print(fact)"
   ]
  },
  {
   "cell_type": "code",
   "execution_count": 31,
   "id": "bb7442cf-8492-42ef-8d6d-e55ffce5bdc2",
   "metadata": {},
   "outputs": [
    {
     "name": "stdin",
     "output_type": "stream",
     "text": [
      "enter the number 4\n"
     ]
    },
    {
     "name": "stdout",
     "output_type": "stream",
     "text": [
      "* * * \n",
      "* * * \n",
      "* * * \n"
     ]
    }
   ],
   "source": [
    "num=int(input(\"enter the number\"))\n",
    "for i in range(n):\n",
    "    for j in range(n):\n",
    "        print(\"*\",end=' ')\n",
    "    print()"
   ]
  },
  {
   "cell_type": "code",
   "execution_count": null,
   "id": "6722ad6a-0ec9-43a7-8c85-529bee141e09",
   "metadata": {},
   "outputs": [],
   "source": [
    "\n",
    "num=int(input(\"enter the number\"))\n",
    "for i in range(n):\n",
    "    for j in range(n):\n",
    "        if i==0 or i==n-1 or j==0 j==n-1:\n",
    "            print(\"*\",end=' ')\n",
    "    else:\n",
    "        \n",
    "    print()"
   ]
  }
 ],
 "metadata": {
  "kernelspec": {
   "display_name": "Python 3 (ipykernel)",
   "language": "python",
   "name": "python3"
  },
  "language_info": {
   "codemirror_mode": {
    "name": "ipython",
    "version": 3
   },
   "file_extension": ".py",
   "mimetype": "text/x-python",
   "name": "python",
   "nbconvert_exporter": "python",
   "pygments_lexer": "ipython3",
   "version": "3.12.7"
  }
 },
 "nbformat": 4,
 "nbformat_minor": 5
}

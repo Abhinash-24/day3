{
 "cells": [
  {
   "cell_type": "code",
   "execution_count": 5,
   "id": "4d70dd42-1b56-4927-89ad-082d10751652",
   "metadata": {},
   "outputs": [
    {
     "name": "stdout",
     "output_type": "stream",
     "text": [
      "this is a outer function....\n",
      "this is an inner function..\n"
     ]
    }
   ],
   "source": [
    "def outer():\n",
    "    print(\"this is a outer function....\")\n",
    "    def inner():\n",
    "        print(\"this is an inner function..\")\n",
    "    inner()\n",
    "outer()"
   ]
  },
  {
   "cell_type": "code",
   "execution_count": 13,
   "id": "acb8018e-2bfb-43c2-a1b2-c8ce9d1214df",
   "metadata": {},
   "outputs": [
    {
     "name": "stdin",
     "output_type": "stream",
     "text": [
      "enter a number 2\n",
      "enter a number 3\n"
     ]
    },
    {
     "name": "stdout",
     "output_type": "stream",
     "text": [
      "addition 5\n",
      "subraction -1\n",
      "product 6\n",
      "division 0.6666666666666666\n"
     ]
    }
   ],
   "source": [
    "def cal(a,b):\n",
    "    def add():\n",
    "        return a+b\n",
    "    def sub():\n",
    "        return a-b\n",
    "    def mul():\n",
    "        return a*b\n",
    "    def div():\n",
    "        return a/b\n",
    "    print(\"addition\",add())\n",
    "    print(\"subraction\",sub())\n",
    "    print(\"product\",mul())\n",
    "    print(\"division\",div())\n",
    "a=int(input(\"enter a number\"))\n",
    "b=int(input(\"enter a number\"))\n",
    "cal(a,b)\n"
   ]
  },
  {
   "cell_type": "code",
   "execution_count": 31,
   "id": "fe7c6e93-a7af-40f0-aa75-366ffa5090b3",
   "metadata": {},
   "outputs": [
    {
     "name": "stdout",
     "output_type": "stream",
     "text": [
      "10\n",
      "15\n"
     ]
    }
   ],
   "source": [
    "def mul_by(n):\n",
    "    def inner(x): #call inner function x=5\n",
    "        return x*n #x*2 x*3\n",
    "    return inner\n",
    "times_2=mul_by(2) #n=2,\n",
    "times_3=mul_by(3) #n=3,\n",
    "print(times_2(5))\n",
    "print(times_3(5))\n"
   ]
  },
  {
   "cell_type": "code",
   "execution_count": 29,
   "id": "0837ab17-ccda-4542-8288-8735a763c3c7",
   "metadata": {},
   "outputs": [
    {
     "name": "stdout",
     "output_type": "stream",
     "text": [
      "hello,sarah!!!!!!\n"
     ]
    }
   ],
   "source": [
    "def greet(text):\n",
    "    def inner(name):\n",
    "        return f\"{text},{name}!!!!!!\"\n",
    "    return inner\n",
    "hi=greet('hello')\n",
    "print(hi(\"sarah\"))"
   ]
  },
  {
   "cell_type": "code",
   "execution_count": 51,
   "id": "fa900214-3470-44af-a37e-8361a1125ce2",
   "metadata": {},
   "outputs": [
    {
     "name": "stdout",
     "output_type": "stream",
     "text": [
      "hello,Mr.Cherry\n",
      "hello,Mrs.Sarah\n"
     ]
    }
   ],
   "source": [
    "def titled(title):\n",
    "    def greet(name):\n",
    "        return f\"hello,{title}{name}\"\n",
    "    return greet\n",
    "mr_greet=titled(\"Mr.\")\n",
    "dr_greet=titled(\"Mrs.\")\n",
    "print(mr_greet(\"Cherry\"))\n",
    "print(dr_greet(\"Sarah\"))"
   ]
  },
  {
   "cell_type": "code",
   "execution_count": 57,
   "id": "f1b154dd-829a-4df8-a8f4-37071348370a",
   "metadata": {},
   "outputs": [
    {
     "name": "stdout",
     "output_type": "stream",
     "text": [
      "x=  22\n",
      "locally 32\n",
      "x= 100\n",
      "latest value of y globally: 25\n",
      "globally 125\n"
     ]
    }
   ],
   "source": [
    "x=100\n",
    "y=10\n",
    "def display():\n",
    "    x=22\n",
    "    print(\"x= \",x)\n",
    "    print(\"locally\",x+y)\n",
    "display()\n",
    "print(\"x=\",x)\n",
    "y=10\n",
    "y=25\n",
    "print(\"latest value of y globally:\",y)\n",
    "print(\"globally\",x+y)\n",
    "    "
   ]
  },
  {
   "cell_type": "code",
   "execution_count": 63,
   "id": "5a77d28b-01f0-4aaa-bfd4-e9aa1ff29968",
   "metadata": {},
   "outputs": [
    {
     "name": "stdin",
     "output_type": "stream",
     "text": [
      "enter the marks 90\n"
     ]
    },
    {
     "name": "stdout",
     "output_type": "stream",
     "text": [
      "subject1 marks: 90\n"
     ]
    },
    {
     "name": "stdin",
     "output_type": "stream",
     "text": [
      "enter the marks 90\n"
     ]
    },
    {
     "name": "stdout",
     "output_type": "stream",
     "text": [
      "subject2 marks: 90\n"
     ]
    },
    {
     "name": "stdin",
     "output_type": "stream",
     "text": [
      "enter the marks 90\n"
     ]
    },
    {
     "name": "stdout",
     "output_type": "stream",
     "text": [
      "subject3 marks: 90\n",
      "total marks stored in global: 270\n"
     ]
    }
   ],
   "source": [
    "total=0\n",
    "def add_subject_marks():\n",
    "    global total \n",
    "    marks=int(input(\"enter the marks\"))\n",
    "    total+=marks\n",
    "    return marks\n",
    "print(\"subject1 marks:\",add_subject_marks())\n",
    "print(\"subject2 marks:\",add_subject_marks())\n",
    "print(\"subject3 marks:\",add_subject_marks())\n",
    "print(\"total marks stored in global:\",total)"
   ]
  },
  {
   "cell_type": "markdown",
   "id": "b7247406-446d-448a-be40-8c7796d7e7de",
   "metadata": {
    "jp-MarkdownHeadingCollapsed": true
   },
   "source": [
    "subject_marks=[]\n",
    "def add_subject_marks():\n",
    "    mark=int(input(\"enter marks for a subject:\"))\n",
    "    subject_marks.append(mark)\n",
    "    return mark\n",
    "print(\"subject 1 marks:\",add_subject_marks())\n",
    "print(\"subject 2 marks:\",add_subject_marks())\n",
    "print(\"subject 3 marks:\",add_subject_marks())\n",
    "print(\"all subject marks:\",subject_marks())\n",
    "total=sum(subject_marks)\n",
    "l=len(subject_marks)\n",
    "avg=total/len(subject_marks)\n",
    "print(\"total marks\",total)\n",
    "print(\"average\",avg)\n"
   ]
  },
  {
   "cell_type": "code",
   "execution_count": 98,
   "id": "d6fc604e-619b-4472-8a29-d4888c4e0665",
   "metadata": {},
   "outputs": [
    {
     "name": "stdin",
     "output_type": "stream",
     "text": [
      "enter marks for a subject: 100\n"
     ]
    },
    {
     "name": "stdout",
     "output_type": "stream",
     "text": [
      "subject 1 marks: 100\n"
     ]
    },
    {
     "name": "stdin",
     "output_type": "stream",
     "text": [
      "enter marks for a subject: 100\n"
     ]
    },
    {
     "name": "stdout",
     "output_type": "stream",
     "text": [
      "subject 2 marks: 100\n"
     ]
    },
    {
     "name": "stdin",
     "output_type": "stream",
     "text": [
      "enter marks for a subject: 100\n"
     ]
    },
    {
     "name": "stdout",
     "output_type": "stream",
     "text": [
      "subject 3 marks: 100\n",
      "all subject marks: [100, 100, 100]\n",
      "total marks 300\n",
      "average 100.0\n"
     ]
    }
   ],
   "source": [
    "subject_marks=[]\n",
    "def add_subject_marks():\n",
    "    mark=int(input(\"enter marks for a subject:\"))\n",
    "    subject_marks.append(mark)\n",
    "    return mark \n",
    "print(\"subject 1 marks:\",add_subject_marks() )\n",
    "print(\"subject 2 marks:\",add_subject_marks() )\n",
    "print(\"subject 3 marks:\",add_subject_marks() )\n",
    "print(\"all subject marks:\",subject_marks )\n",
    "total=sum(subject_marks)\n",
    "l=len(subject_marks)\n",
    "avg=total/l\n",
    "print(\"total marks\",total) \n",
    "print(\"average\",avg)"
   ]
  },
  {
   "cell_type": "code",
   "execution_count": null,
   "id": "ffe7f7b7-92f8-4443-ac93-e400753521b3",
   "metadata": {},
   "outputs": [],
   "source": []
  }
 ],
 "metadata": {
  "kernelspec": {
   "display_name": "Python 3 (ipykernel)",
   "language": "python",
   "name": "python3"
  },
  "language_info": {
   "codemirror_mode": {
    "name": "ipython",
    "version": 3
   },
   "file_extension": ".py",
   "mimetype": "text/x-python",
   "name": "python",
   "nbconvert_exporter": "python",
   "pygments_lexer": "ipython3",
   "version": "3.12.7"
  }
 },
 "nbformat": 4,
 "nbformat_minor": 5
}
